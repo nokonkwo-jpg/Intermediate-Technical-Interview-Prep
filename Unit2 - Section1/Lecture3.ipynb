{
 "cells": [
  {
   "metadata": {},
   "cell_type": "markdown",
   "source": [
    "### Use Cases for Dictionaries\n",
    "\n",
    "#### 1. **Counting Frequency of Characters or Elements**\n",
    "- **Problem Example**: `Frequency of Most Frequent Element`, `Valid Anagram`\n",
    "- **Usage**: Use dictionaries to count the occurrences of elements in a list or characters in a string.\n",
    "\n",
    "#### 2. **Key-Value Data Storage**\n",
    "- **Problem Example**: `Two Sum`, `Isomorphic Strings`\n",
    "- **Usage**: Use dictionaries for quick lookups and storing relationships between keys and values.\n",
    "\n",
    "#### 3. **Grouping Data**\n",
    "- **Problem Example**: `Group Anagrams`, `Find All Duplicates in an Array`\n",
    "- **Usage**: Use dictionaries to group data based on certain criteria.\n",
    "\n",
    "#### 4. **Tracking Unique Elements**\n",
    "- **Problem Example**: `Contains Duplicate`, `Subarray Sum Equals K`\n",
    "- **Usage**: Use dictionaries to track unique elements or occurrences of subarrays for quick comparisons.\n",
    "\n",
    "### Conclusion\n",
    "Dictionaries are widely used for:\n",
    "- Frequency counting\n",
    "- Fast lookups and mappings\n",
    "- Grouping and caching results\n",
    "- Storing complex relationships"
   ],
   "id": "248421de20843e88"
  },
  {
   "metadata": {},
   "cell_type": "markdown",
   "source": [
    "### UMPIRE Method Annotation for `outputCountDict`\n",
    "\n",
    "#### **U - Understand the Problem**\n",
    "- The function `outputCountDict(words)` takes a list of words and returns a dictionary where:\n",
    "  - Keys are unique words from the list.\n",
    "  - Values represent the count of occurrences of each word.\n",
    "\n",
    "#### **M - Match to Known Problems**\n",
    "- This problem relates to the common frequency counting pattern, often used in word frequency analysis, histograms, or data processing tasks.\n",
    "\n",
    "#### **P - Plan**\n",
    "1. Initialize an empty dictionary `output`.\n",
    "2. Iterate through each word in the list.\n",
    "3. If the word is already in `output`, increment its count.\n",
    "4. Otherwise, add the word to `output` with an initial count of `1`.\n",
    "5. Return the dictionary containing word counts.\n",
    "\n",
    "#### **I - Implement**\n",
    "- The function is already implemented correctly:"
   ],
   "id": "5de457b7bbed89fb"
  },
  {
   "metadata": {
    "ExecuteTime": {
     "end_time": "2025-02-26T05:53:14.236598Z",
     "start_time": "2025-02-26T05:53:14.231241Z"
    }
   },
   "cell_type": "code",
   "source": [
    "def outputCountDict(words):\n",
    "\n",
    "    output = dict()\n",
    "\n",
    "    for items in words:\n",
    "        if items in output:\n",
    "            output[items] += 1\n",
    "        else:\n",
    "            output[items] = 1\n",
    "\n",
    "    return output\n",
    "\n",
    "words = ['apple', 'banana', 'apple', 'orange', 'banana', 'apple']\n",
    "print(outputCountDict(words))\n"
   ],
   "id": "5769cc20a23c6c28",
   "outputs": [
    {
     "name": "stdout",
     "output_type": "stream",
     "text": [
      "{'apple': 3, 'banana': 2, 'orange': 1}\n"
     ]
    }
   ],
   "execution_count": 11
  },
  {
   "metadata": {},
   "cell_type": "markdown",
   "source": "# Breakout Session Practice",
   "id": "58a100f9400ebdaf"
  },
  {
   "metadata": {},
   "cell_type": "markdown",
   "source": [
    "### UMPIRE Method Annotation for `lineup`\n",
    "\n",
    "#### **U - Understand the Problem**\n",
    "- The function `lineup(artists, set_times)` takes two lists:\n",
    "  - `artists`: A list of artist names.\n",
    "  - `set_times`: A list of corresponding performance times.\n",
    "- It returns a dictionary where:\n",
    "  - Keys are artist names.\n",
    "  - Values are their respective set times.\n",
    "\n",
    "#### **M - Match to Known Problems**\n",
    "- This problem follows the **mapping pattern**, where two related lists are combined into a dictionary.\n",
    "- Similar to problems like:\n",
    "  - Assigning student grades to names.\n",
    "  - Creating a dictionary from two parallel lists.\n",
    "\n",
    "#### **P - Plan**\n",
    "1. Initialize an empty dictionary `dictionary`.\n",
    "2. Iterate through the `artists` list using an index `i`.\n",
    "3. Assign each artist as a key and their corresponding `set_times[i]` as the value.\n",
    "4. Return the final dictionary.\n",
    "\n",
    "#### **I - Implement**\n",
    "- The function is implemented correctly as:"
   ],
   "id": "dabf27c4b8e152a6"
  },
  {
   "metadata": {
    "ExecuteTime": {
     "end_time": "2025-02-26T05:57:13.998475Z",
     "start_time": "2025-02-26T05:57:13.989462Z"
    }
   },
   "cell_type": "code",
   "source": [
    "def lineup(artists, set_times):\n",
    "    dictionary = dict()\n",
    "    for i in range(len(artists)):\n",
    "        dictionary[artists[i]] = set_times[i]\n",
    "    return dictionary\n",
    "\n",
    "artists1 = [\"Kendrick Lamar\", \"Chappell Roan\", \"Mitski\", \"Rosalia\"]\n",
    "set_times1 = [\"9:30 PM\", \"5:00 PM\", \"2:00 PM\", \"7:30 PM\"]\n",
    "\n",
    "artists2 = []\n",
    "set_times2 = []\n",
    "\n",
    "print(lineup(artists1, set_times1))\n",
    "print(lineup(artists2, set_times2))"
   ],
   "id": "230edf7cb22d70a7",
   "outputs": [
    {
     "name": "stdout",
     "output_type": "stream",
     "text": [
      "{'Kendrick Lamar': '9:30 PM', 'Chappell Roan': '5:00 PM', 'Mitski': '2:00 PM', 'Rosalia': '7:30 PM'}\n",
      "{}\n"
     ]
    }
   ],
   "execution_count": 12
  },
  {
   "metadata": {},
   "cell_type": "markdown",
   "source": [
    "### UMPIRE Method Annotation for `get_artist_info`\n",
    "\n",
    "#### **U - Understand the Problem**\n",
    "- The function `get_artist_info(artist, festival_schedule)` takes:\n",
    "  - `artist`: A string representing an artist's name.\n",
    "  - `festival_schedule`: A dictionary mapping artist names to their performance details.\n",
    "- It returns:\n",
    "  - The artist's schedule details if found in `festival_schedule`.\n",
    "  - Otherwise, it returns a dictionary with a message `'Artist not found'`.\n",
    "\n",
    "#### **M - Match to Known Problems**\n",
    "- This follows the **lookup pattern**, where a key is searched in a dictionary.\n",
    "- Similar to:\n",
    "  - Looking up student grades in a grade book.\n",
    "  - Searching for an employee in a company database.\n",
    "\n",
    "#### **P - Plan**\n",
    "1. Check if the `artist` exists in `festival_schedule` using `.get()`.\n",
    "2. If found, return the corresponding dictionary containing performance details.\n",
    "3. Otherwise, return `{'message': 'Artist not found'}`.\n",
    "\n",
    "#### **I - Implement**\n",
    "- The function is implemented correctly as:"
   ],
   "id": "2ac71eeea50c138c"
  },
  {
   "metadata": {
    "ExecuteTime": {
     "end_time": "2025-02-26T01:32:13.875484Z",
     "start_time": "2025-02-26T01:32:13.857619Z"
    }
   },
   "cell_type": "code",
   "outputs": [
    {
     "name": "stdout",
     "output_type": "stream",
     "text": [
      "{'day': 'Friday', 'time': '9:00 PM', 'stage': 'Main Stage'}\n",
      "{'message': 'Artist not found'}\n"
     ]
    }
   ],
   "execution_count": 5,
   "source": [
    "def get_artist_info(artist, festival_schedule):\n",
    "    if festival_schedule.get(artist):\n",
    "        return festival_schedule[artist]\n",
    "    else:\n",
    "        return {'message': 'Artist not found'}\n",
    "\n",
    "\n",
    "\n",
    "festival_schedule = {\n",
    "    \"Blood Orange\": {\"day\": \"Friday\", \"time\": \"9:00 PM\", \"stage\": \"Main Stage\"},\n",
    "    \"Metallica\": {\"day\": \"Saturday\", \"time\": \"8:00 PM\", \"stage\": \"Main Stage\"},\n",
    "    \"Kali Uchis\": {\"day\": \"Sunday\", \"time\": \"7:00 PM\", \"stage\": \"Second Stage\"},\n",
    "    \"Lawrence\": {\"day\": \"Friday\", \"time\": \"6:00 PM\", \"stage\": \"Main Stage\"}\n",
    "}\n",
    "\n",
    "print(get_artist_info(\"Blood Orange\", festival_schedule))\n",
    "print(get_artist_info(\"Taylor Swift\", festival_schedule))"
   ],
   "id": "973460ebf6aa9b7c"
  },
  {
   "metadata": {},
   "cell_type": "markdown",
   "source": [
    "### UMPIRE Method Annotation for `total_sales`\n",
    "\n",
    "#### **U - Understand the Problem**\n",
    "- The function `total_sales(ticket_sales)` takes:\n",
    "  - `ticket_sales`: A dictionary where:\n",
    "    - Keys are ticket types (e.g., `\"Friday\"`, `\"Saturday\"`, `\"3-Day Pass\"`).\n",
    "    - Values represent the number of tickets sold.\n",
    "- It returns the total number of tickets sold by summing all values in the dictionary.\n",
    "\n",
    "#### **M - Match to Known Problems**\n",
    "- This follows the **summation pattern**, often seen in:\n",
    "  - Calculating total revenue from sales.\n",
    "  - Summing grades or scores.\n",
    "  - Aggregating counts from a dataset.\n",
    "\n",
    "#### **P - Plan**\n",
    "1. Retrieve all values from the dictionary using `.values()`.\n",
    "2. Use `sum()` to calculate the total.\n",
    "3. Return the total sum.\n",
    "\n",
    "#### **I - Implement**\n",
    "- The function is implemented correctly as:"
   ],
   "id": "d601094a7b9e60a7"
  },
  {
   "metadata": {
    "ExecuteTime": {
     "end_time": "2025-02-26T05:59:32.986046Z",
     "start_time": "2025-02-26T05:59:32.981344Z"
    }
   },
   "cell_type": "code",
   "source": [
    "def total_sales(ticket_sales):\n",
    "    return sum (ticket_sales.values())\n",
    "\n",
    "\n",
    "\n",
    "ticket_sales = {\"Friday\": 200, \"Saturday\": 1000, \"Sunday\": 800, \"3-Day Pass\": 2500}\n",
    "\n",
    "print(total_sales(ticket_sales))"
   ],
   "id": "d7ecd4ec199e7e3a",
   "outputs": [
    {
     "name": "stdout",
     "output_type": "stream",
     "text": [
      "4500\n"
     ]
    }
   ],
   "execution_count": 13
  },
  {
   "metadata": {},
   "cell_type": "markdown",
   "source": [
    "### UMPIRE Method Annotation for `identify_conflicts`\n",
    "\n",
    "#### **U - Understand the Problem**\n",
    "- The function `identify_conflicts(venue1_schedule, venue2_schedule)` takes:\n",
    "  - `venue1_schedule`: A dictionary mapping artist names to performance times.\n",
    "  - `venue2_schedule`: Another dictionary mapping artist names to performance times at a different venue.\n",
    "- It returns a dictionary containing artist-performance time pairs that **appear in both schedules with the same time**.\n",
    "\n",
    "#### **M - Match to Known Problems**\n",
    "- This follows the **intersection pattern**, commonly used in:\n",
    "  - Finding common elements in two datasets.\n",
    "  - Identifying scheduling conflicts in event planning.\n",
    "  - Comparing shared key-value pairs between dictionaries.\n",
    "\n",
    "#### **P - Plan**\n",
    "1. Extract all `(artist, time)` pairs from both dictionaries using `.items()`.\n",
    "2. Use the `&` operator to find the intersection of these sets.\n",
    "3. Convert the resulting set of common key-value pairs back into a dictionary.\n",
    "4. Return the dictionary containing conflicts.\n",
    "\n",
    "#### **I - Implement**\n",
    "- The function is implemented correctly as:"
   ],
   "id": "1f0320eed011f3ae"
  },
  {
   "metadata": {
    "ExecuteTime": {
     "end_time": "2025-02-26T06:01:35.074601Z",
     "start_time": "2025-02-26T06:01:35.069247Z"
    }
   },
   "cell_type": "code",
   "source": [
    "def identify_conflicts(venue1_schedule, venue2_schedule):\n",
    "    return dict(venue1_schedule.items() & venue2_schedule.items())\n",
    "\n",
    "venue1_schedule = {\n",
    "    \"Stromae\": \"9:00 PM\",\n",
    "    \"Janelle Monáe\": \"8:00 PM\",\n",
    "    \"HARDY\": \"7:00 PM\",\n",
    "    \"Bruce Springsteen\": \"6:00 PM\"\n",
    "}\n",
    "\n",
    "venue2_schedule = {\n",
    "    \"Stromae\": \"9:00 PM\",\n",
    "    \"Janelle Monáe\": \"10:30 PM\",\n",
    "    \"HARDY\": \"7:00 PM\",\n",
    "    \"Wizkid\": \"6:00 PM\"\n",
    "}\n",
    "\n",
    "print(identify_conflicts(venue1_schedule, venue2_schedule))"
   ],
   "id": "b95be3ff0e5d9ec2",
   "outputs": [
    {
     "name": "stdout",
     "output_type": "stream",
     "text": [
      "{'HARDY': '7:00 PM', 'Stromae': '9:00 PM'}\n"
     ]
    }
   ],
   "execution_count": 14
  }
 ],
 "metadata": {
  "kernelspec": {
   "display_name": "Python 3",
   "language": "python",
   "name": "python3"
  },
  "language_info": {
   "codemirror_mode": {
    "name": "ipython",
    "version": 2
   },
   "file_extension": ".py",
   "mimetype": "text/x-python",
   "name": "python",
   "nbconvert_exporter": "python",
   "pygments_lexer": "ipython2",
   "version": "2.7.6"
  }
 },
 "nbformat": 4,
 "nbformat_minor": 5
}
