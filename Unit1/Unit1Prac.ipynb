{
 "cells": [
  {
   "cell_type": "code",
   "id": "initial_id",
   "metadata": {
    "collapsed": true,
    "ExecuteTime": {
     "end_time": "2025-03-09T01:05:50.149472Z",
     "start_time": "2025-03-09T01:05:50.136852Z"
    }
   },
   "source": [
    "def get_item(items, x):\n",
    "    if x < 0 or x > len(items)-1:\n",
    "        return None\n",
    "    return items[x]\n",
    "\n",
    "\n",
    "items = [\"piglet\", \"pooh\", \"roo\", \"rabbit\"]\n",
    "x=2\n",
    "print(get_item(items, x))\n",
    "\n",
    "items = [\"piglet\", \"pooh\", \"roo\", \"rabbit\"]\n",
    "x = 4\n",
    "print(get_item(items, x))"
   ],
   "outputs": [
    {
     "name": "stdout",
     "output_type": "stream",
     "text": [
      "roo\n",
      "None\n"
     ]
    }
   ],
   "execution_count": 14
  },
  {
   "metadata": {},
   "cell_type": "markdown",
   "source": [
    "## U\n",
    "- the function transpose accepts a 2D int arr and returns the transpose. Row 1 becomes col 1, row 2 becomes col 2, row n becomes col n\n",
    "## M\n",
    "- this is array manipulation. IDK many problems like this\n",
    "## P\n",
    "- My plan is to create an array of size col x row. Then use a nested for loop to iterate through the array and matrix[i][j] will become [j][i] in new array."
   ],
   "id": "f87e7362a0ae55e6"
  },
  {
   "metadata": {
    "ExecuteTime": {
     "end_time": "2025-03-09T02:19:51.607350Z",
     "start_time": "2025-03-09T02:19:51.597047Z"
    }
   },
   "cell_type": "code",
   "source": [
    "def transpose(matrix):\n",
    "    rows = len(matrix)\n",
    "    cols = len(matrix[0])\n",
    "    # this is a way to initialize a 2D array. Since this is a transpose whats labeled as rows is now columns. What i labeled below as cols becomes row\n",
    "    arr = [[0] * rows for i in range(cols)]\n",
    "    '''\n",
    "    this is representing the the new transposed matrix. You anchor at the 0th column and fill in the rows. Then you move to\n",
    "    the next column and fill in those rows. So on and so forth. You know that index ji in the old matrix is index ij in the new\n",
    "    transposed matrix.\n",
    "     '''\n",
    "    for i in range(cols):\n",
    "        for j in range(rows):\n",
    "            print(f\"i={i}, j={j}\")\n",
    "            arr[i][j] = matrix[j][i]\n",
    "\n",
    "    return arr\n",
    "\n",
    "\n",
    "\n",
    "matrix = [\n",
    "    [1, 2, 3],\n",
    "    [4, 5, 6],\n",
    "    [7, 8, 9]\n",
    "]\n",
    "print(transpose(matrix))\n",
    "\n",
    "#matrix = [\n",
    "    #[1, 2, 3],\n",
    "    #[4, 5, 6]\n",
    "#]\n",
    "#print(transpose(matrix))"
   ],
   "id": "57ba604f25fc8599",
   "outputs": [
    {
     "name": "stdout",
     "output_type": "stream",
     "text": [
      "i=0, j=0\n",
      "i=0, j=1\n",
      "i=0, j=2\n",
      "i=1, j=0\n",
      "i=1, j=1\n",
      "i=1, j=2\n",
      "i=2, j=0\n",
      "i=2, j=1\n",
      "i=2, j=2\n",
      "[[1, 4, 7], [2, 5, 8], [3, 6, 9]]\n"
     ]
    }
   ],
   "execution_count": 33
  },
  {
   "metadata": {},
   "cell_type": "code",
   "outputs": [],
   "execution_count": null,
   "source": "",
   "id": "39c2dcec88871c0d"
  }
 ],
 "metadata": {
  "kernelspec": {
   "display_name": "Python 3",
   "language": "python",
   "name": "python3"
  },
  "language_info": {
   "codemirror_mode": {
    "name": "ipython",
    "version": 2
   },
   "file_extension": ".py",
   "mimetype": "text/x-python",
   "name": "python",
   "nbconvert_exporter": "python",
   "pygments_lexer": "ipython2",
   "version": "2.7.6"
  }
 },
 "nbformat": 4,
 "nbformat_minor": 5
}
