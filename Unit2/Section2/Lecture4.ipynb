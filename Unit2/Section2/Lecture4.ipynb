{
 "cells": [
  {
   "metadata": {},
   "cell_type": "markdown",
   "source": [
    "# Sets\n",
    "- Common use cases for sets include"
   ],
   "id": "6d58241e9a085ce0"
  },
  {
   "metadata": {},
   "cell_type": "markdown",
   "source": [
    "# Understand\n",
    "Take a list of strings\n",
    "-\n",
    "# Match\n",
    "- set() for strings that we've seen, to avoid double counts\n",
    "# Plan\n",
    "- set a num of pairs to 0\n",
    "- keep track of strs we've seen in a set\n",
    "- for each str in signals\n",
    "- check if the reverse of the current string has been seen in our set\n",
    "- if we've seen it\n",
    "- add 1 to pars\n",
    "- remove str from set so its not used in another pair\n",
    "- if we haven't seen it,\n",
    "- add str to set"
   ],
   "id": "efc5fa5935e04af"
  },
  {
   "metadata": {},
   "cell_type": "code",
   "outputs": [],
   "execution_count": null,
   "source": "def max_number_of_string_pair",
   "id": "ee1a3b0764dcd7ce"
  },
  {
   "metadata": {
    "ExecuteTime": {
     "end_time": "2025-02-28T01:23:41.310798Z",
     "start_time": "2025-02-28T01:23:41.296378Z"
    }
   },
   "cell_type": "code",
   "source": [
    "import sys\n",
    "def most_endangered(species_list):\n",
    "    min = sys.maxsize\n",
    "    name = ''\n",
    "    for species in species_list:\n",
    "        value = species.get(\"population\")\n",
    "        if min > value:\n",
    "            min = value\n",
    "            name = species.get(\"name\")\n",
    "    return name\n",
    "species_list = [\n",
    "    {\"name\": \"Amur Leopard\",\n",
    "     \"habitat\": \"Temperate forests\",\n",
    "     \"population\": 84\n",
    "    },\n",
    "    {\"name\": \"Javan Rhino\",\n",
    "     \"habitat\": \"Tropical forests\",\n",
    "     \"population\": 72\n",
    "    },\n",
    "    {\"name\": \"Vaquita\",\n",
    "     \"habitat\": \"Marine\",\n",
    "     \"population\": 10\n",
    "    }\n",
    "]\n",
    "\n",
    "print(most_endangered(species_list))"
   ],
   "id": "4067ab247db9f347",
   "outputs": [
    {
     "name": "stdout",
     "output_type": "stream",
     "text": [
      "Vaquita\n"
     ]
    }
   ],
   "execution_count": 3
  },
  {
   "metadata": {
    "ExecuteTime": {
     "end_time": "2025-02-28T01:33:01.638451Z",
     "start_time": "2025-02-28T01:33:01.627589Z"
    }
   },
   "cell_type": "code",
   "source": [
    "def count_endangered_species(endangered_species, observed_species):\n",
    "    endangered = set(endangered_species)\n",
    "    count = 0\n",
    "    for species in observed_species:\n",
    "        if species in endangered:\n",
    "            count += 1\n",
    "    return count\n",
    "\n",
    "endangered_species1 = \"aA\"\n",
    "observed_species1 = \"aAAbbbb\"\n",
    "\n",
    "endangered_species2 = \"z\"\n",
    "observed_species2 = \"ZZ\"\n",
    "\n",
    "print(count_endangered_species(endangered_species1, observed_species1))\n",
    "print(count_endangered_species(endangered_species2, observed_species2))"
   ],
   "id": "ab6edb2ea3fdf2cf",
   "outputs": [
    {
     "name": "stdout",
     "output_type": "stream",
     "text": [
      "3\n",
      "0\n"
     ]
    }
   ],
   "execution_count": 5
  },
  {
   "metadata": {},
   "cell_type": "code",
   "outputs": [],
   "execution_count": null,
   "source": [
    "def navigate_research_station(station_layout, observations):\n",
    "    dictionary = {}\n",
    "    for i in range(len)"
   ],
   "id": "955217a9cc67ad82"
  }
 ],
 "metadata": {
  "kernelspec": {
   "display_name": "Python 3",
   "language": "python",
   "name": "python3"
  },
  "language_info": {
   "codemirror_mode": {
    "name": "ipython",
    "version": 2
   },
   "file_extension": ".py",
   "mimetype": "text/x-python",
   "name": "python",
   "nbconvert_exporter": "python",
   "pygments_lexer": "ipython2",
   "version": "2.7.6"
  }
 },
 "nbformat": 4,
 "nbformat_minor": 5
}
