{
 "cells": [
  {
   "metadata": {},
   "cell_type": "markdown",
   "source": [
    "## Goldilocks Approved Function - UMPIRE Breakdown\n",
    "\n",
    "### U - Understand the Problem\n",
    "#### This function takes a list of numbers and finds the \"middle\" unique number after sorting. If there are fewer than three unique numbers, it returns -1.\n",
    "\n",
    "### M - Match the Problem with an Approach\n",
    "#### - Sort the numbers.\n",
    "#### - Remove duplicates.\n",
    "#### - Find the middle unique number.\n",
    "#### - If there are fewer than 3 unique numbers, return -1.\n",
    "\n",
    "### P - Plan the Solution\n",
    "#### 1. Sort the numbers.\n",
    "#### 2. Convert them to a set to remove duplicates.\n",
    "#### 3. Find the middle index of the unique numbers.\n",
    "#### 4. If there are less than 3 unique numbers, return -1; otherwise, return the middle number.\n",
    "\n",
    "### I - Implement the Code\n",
    "### The following code follows the above plan."
   ],
   "id": "5f2aaf50e79eabd4"
  },
  {
   "metadata": {
    "ExecuteTime": {
     "end_time": "2025-02-21T02:53:16.492084Z",
     "start_time": "2025-02-21T02:53:16.480108Z"
    }
   },
   "cell_type": "code",
   "source": [
    "from operator import index\n",
    "\n",
    "\n",
    "def goldilocks_approved(nums):\n",
    "\n",
    "\n",
    "    nums_sorted = sorted(nums)\n",
    "    sorted_set_num = set(nums_sorted)\n",
    "    mid = index(len(sorted_set_num)) // 2\n",
    "\n",
    "    length = len(sorted_set_num)\n",
    "    if length <= 2:\n",
    "        return -1\n",
    "    return nums_sorted[mid]\n",
    "\n",
    "\n",
    "nums = [3, 2, 1, 4, 4, 4, 4,4,4]\n",
    "print(goldilocks_approved(nums))\n",
    "\n",
    "nums = [1, 2]\n",
    "print(goldilocks_approved(nums))\n",
    "\n",
    "nums = [2, 1, 3]\n",
    "print(goldilocks_approved(nums))\n",
    "\n",
    "nums = [1, 1, 1, 1, 1,]\n",
    "print(goldilocks_approved(nums))"
   ],
   "id": "f7954d52a4368746",
   "outputs": [
    {
     "name": "stdout",
     "output_type": "stream",
     "text": [
      "3\n",
      "-1\n",
      "2\n",
      "-1\n"
     ]
    }
   ],
   "execution_count": 1
  }
 ],
 "metadata": {
  "kernelspec": {
   "display_name": "Python 3",
   "language": "python",
   "name": "python3"
  },
  "language_info": {
   "codemirror_mode": {
    "name": "ipython",
    "version": 2
   },
   "file_extension": ".py",
   "mimetype": "text/x-python",
   "name": "python",
   "nbconvert_exporter": "python",
   "pygments_lexer": "ipython2",
   "version": "2.7.6"
  }
 },
 "nbformat": 4,
 "nbformat_minor": 5
}
