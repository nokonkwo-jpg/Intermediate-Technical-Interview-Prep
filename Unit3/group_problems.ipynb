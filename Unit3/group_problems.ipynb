{
 "cells": [
  {
   "metadata": {},
   "cell_type": "markdown",
   "source": [
    "# #balanced () problem\n",
    "\n",
    "### UMPIRE Method for `is_balanced(parens)`\n",
    "\n",
    "#### **U - Understand the Problem**\n",
    "- **Input**: A string containing only parentheses `(` and `)`.\n",
    "- **Output**: `True` if the parentheses are balanced, `False` otherwise.\n",
    "- **Balanced**: Every opening parenthesis has a corresponding closing parenthesis in the correct order.\n",
    "\n",
    "#### **M - Match to Known Problems**\n",
    "- This is a classic **balanced parentheses** problem, which is generally solved using a **stack** data structure.\n",
    "\n",
    "#### **P - Plan**\n",
    "1. Initialize an empty stack (`opens`).\n",
    "2. Loop through each character in the string:\n",
    "    - If the character is `(`, push it onto the stack.\n",
    "    - If the character is `)`, check if the stack is empty:\n",
    "        - If it is, return `False`.\n",
    "        - Otherwise, pop from the stack.\n",
    "3. If the stack is empty at the end, return `True`, else return `False`.\n",
    "\n",
    "#### **I - Implement**\n",
    "- The code is implemented correctly using a stack approach.\n",
    "\n",
    "#### **R - Review**\n",
    "- Handles edge cases like empty strings and unbalanced cases (`\"(()\"` or `\"())\"`).\n",
    "- Returns the expected output for both balanced and unbalanced inputs.\n",
    "\n",
    "#### **E - Evaluate**\n",
    "- **Time Complexity**: **O(n)** where `n` is the length of the input string.\n",
    "- **Space Complexity**: **O(n)** for the stack in the worst case.\n"
   ],
   "id": "21c72a6ca6498b2c"
  },
  {
   "metadata": {},
   "cell_type": "markdown",
   "source": [
    "\n",
    "# def is_balanced(parens):\n",
    "#     if not parens:\n",
    "#         return False\n",
    "#     #impl stack\n",
    "#     opens = []\n",
    "#     #loop through parens\n",
    "#     for paren in parens:\n",
    "#         if paren == \"(\":\n",
    "#             opens.append(paren)\n",
    "#     #for close, pop\n",
    "#         else:\n",
    "#             if not opens:\n",
    "#                 return False\n",
    "#             else:\n",
    "#                 opens.pop()\n",
    "\n",
    "#     return True if not opens else False\n"
   ],
   "id": "3e7b7b6d4e1cef03"
  }
 ],
 "metadata": {
  "kernelspec": {
   "display_name": "Python 3",
   "language": "python",
   "name": "python3"
  },
  "language_info": {
   "codemirror_mode": {
    "name": "ipython",
    "version": 2
   },
   "file_extension": ".py",
   "mimetype": "text/x-python",
   "name": "python",
   "nbconvert_exporter": "python",
   "pygments_lexer": "ipython2",
   "version": "2.7.6"
  }
 },
 "nbformat": 4,
 "nbformat_minor": 5
}
